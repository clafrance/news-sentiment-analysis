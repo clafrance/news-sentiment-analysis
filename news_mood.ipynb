{
 "cells": [
  {
   "cell_type": "code",
   "execution_count": 1,
   "metadata": {},
   "outputs": [],
   "source": [
    "%matplotlib notebook\n",
    "%matplotlib inline"
   ]
  },
  {
   "cell_type": "code",
   "execution_count": 2,
   "metadata": {},
   "outputs": [],
   "source": [
    "# Dependencies\n",
    "import tweepy\n",
    "import json\n",
    "import numpy as np\n",
    "import pandas as pd\n",
    "import time\n",
    "from datetime import datetime\n",
    "import collections\n",
    "import matplotlib.pyplot as plt\n",
    "from config import (consumer_key, \n",
    "                    consumer_secret, \n",
    "                    access_token, \n",
    "                    access_token_secret)"
   ]
  },
  {
   "cell_type": "code",
   "execution_count": 3,
   "metadata": {},
   "outputs": [],
   "source": [
    "# Import and Initialize Sentiment Analyzer\n",
    "from vaderSentiment.vaderSentiment import SentimentIntensityAnalyzer\n",
    "analyzer = SentimentIntensityAnalyzer()"
   ]
  },
  {
   "cell_type": "code",
   "execution_count": 4,
   "metadata": {},
   "outputs": [],
   "source": [
    "# Setup Tweepy API Authentication\n",
    "auth = tweepy.OAuthHandler(consumer_key, consumer_secret)\n",
    "auth.set_access_token(access_token, access_token_secret)\n",
    "api = tweepy.API(auth, parser=tweepy.parsers.JSONParser())"
   ]
  },
  {
   "cell_type": "code",
   "execution_count": 5,
   "metadata": {},
   "outputs": [],
   "source": [
    "date = datetime.strftime(datetime.now(), \"%m/%d/%Y\")"
   ]
  },
  {
   "cell_type": "code",
   "execution_count": 6,
   "metadata": {},
   "outputs": [],
   "source": [
    "target_users = (\"FoxNews\", \"CNN\", \"CBS\", \"nytimes\", \"BBC\")\n",
    "\n",
    "sentiments = {}\n",
    "\n",
    "for user in target_users:\n",
    "    d = {f\"compound_{user}\": [],\n",
    "         f\"pos_{user}\": [],\n",
    "         f\"neg_{user}\": [],\n",
    "         f\"neu_{user}\": [],\n",
    "         f\"tweet_{user}\": [],\n",
    "         f\"tweet_time_{user}\": [],\n",
    "         f\"tweet_ago_{user}\": []}\n",
    "    sentiments.update(d)"
   ]
  },
  {
   "cell_type": "code",
   "execution_count": 7,
   "metadata": {},
   "outputs": [
    {
     "data": {
      "text/plain": [
       "{'compound_FoxNews': [],\n",
       " 'pos_FoxNews': [],\n",
       " 'neg_FoxNews': [],\n",
       " 'neu_FoxNews': [],\n",
       " 'tweet_FoxNews': [],\n",
       " 'tweet_time_FoxNews': [],\n",
       " 'tweet_ago_FoxNews': [],\n",
       " 'compound_CNN': [],\n",
       " 'pos_CNN': [],\n",
       " 'neg_CNN': [],\n",
       " 'neu_CNN': [],\n",
       " 'tweet_CNN': [],\n",
       " 'tweet_time_CNN': [],\n",
       " 'tweet_ago_CNN': [],\n",
       " 'compound_CBS': [],\n",
       " 'pos_CBS': [],\n",
       " 'neg_CBS': [],\n",
       " 'neu_CBS': [],\n",
       " 'tweet_CBS': [],\n",
       " 'tweet_time_CBS': [],\n",
       " 'tweet_ago_CBS': [],\n",
       " 'compound_nytimes': [],\n",
       " 'pos_nytimes': [],\n",
       " 'neg_nytimes': [],\n",
       " 'neu_nytimes': [],\n",
       " 'tweet_nytimes': [],\n",
       " 'tweet_time_nytimes': [],\n",
       " 'tweet_ago_nytimes': [],\n",
       " 'compound_BBC': [],\n",
       " 'pos_BBC': [],\n",
       " 'neg_BBC': [],\n",
       " 'neu_BBC': [],\n",
       " 'tweet_BBC': [],\n",
       " 'tweet_time_BBC': [],\n",
       " 'tweet_ago_BBC': []}"
      ]
     },
     "execution_count": 7,
     "metadata": {},
     "output_type": "execute_result"
    }
   ],
   "source": [
    "sentiments"
   ]
  },
  {
   "cell_type": "code",
   "execution_count": 8,
   "metadata": {},
   "outputs": [
    {
     "name": "stdout",
     "output_type": "stream",
     "text": [
      "done\n"
     ]
    }
   ],
   "source": [
    "# Get 100 tweets for each news network  \n",
    "for target_user in target_users:\n",
    "    \n",
    "    public_tweets = [] \n",
    "\n",
    "    for page_num in range(1, 6):\n",
    "        tweets = api.user_timeline(target_user, page=page_num, type='recent')\n",
    "        public_tweets += tweets\n",
    "        \n",
    "    number_of_tweets = len(public_tweets)\n",
    "    \n",
    "    for num in range(number_of_tweets):   \n",
    "        tweet = public_tweets[num]\n",
    "        tweet_time = datetime.strptime(tweet['created_at'], \"%a %b %d %H:%M:%S %z %Y\")\n",
    "       \n",
    "        # Calculate the time between the two tweets\n",
    "        if num == (number_of_tweets - 1): # for the last tweet\n",
    "            tweet_ago = 0 \n",
    "        else:\n",
    "            previous_tweet = public_tweets[num+1]\n",
    "            previous_tweet_time = datetime.strptime(previous_tweet['created_at'], \"%a %b %d %H:%M:%S %z %Y\")\n",
    "            tweet_ago = round((tweet_time - previous_tweet_time).seconds/60, 2) # in minutes\n",
    "        \n",
    "        # Run Vader Analysis on tweet\n",
    "        compound = analyzer.polarity_scores(tweet[\"text\"])[\"compound\"]\n",
    "        neg = analyzer.polarity_scores(tweet[\"text\"])[\"neg\"] * -1\n",
    "        neu = analyzer.polarity_scores(tweet[\"text\"])[\"neu\"]\n",
    "        pos = analyzer.polarity_scores(tweet[\"text\"])[\"pos\"]\n",
    "        tweet = tweet[\"text\"]\n",
    "\n",
    "        # Add each value to the sentiments\n",
    "        sentiments[f\"compound_{target_user}\"].append(compound)\n",
    "        sentiments[f\"pos_{target_user}\"].append(pos)\n",
    "        sentiments[f\"neg_{target_user}\"].append(neg)\n",
    "        sentiments[f\"neu_{target_user}\"].append(neu)\n",
    "        sentiments[f\"tweet_{target_user}\"].append(tweet)\n",
    "        sentiments[f\"tweet_time_{target_user}\"].append(tweet_time)\n",
    "        sentiments[f\"tweet_ago_{target_user}\"].append(tweet_ago)\n",
    "\n",
    "print(\"done\")    "
   ]
  },
  {
   "cell_type": "code",
   "execution_count": 9,
   "metadata": {},
   "outputs": [],
   "source": [
    "sentiments_df = pd.DataFrame(sentiments)"
   ]
  },
  {
   "cell_type": "code",
   "execution_count": 10,
   "metadata": {},
   "outputs": [
    {
     "data": {
      "text/html": [
       "<div>\n",
       "<style scoped>\n",
       "    .dataframe tbody tr th:only-of-type {\n",
       "        vertical-align: middle;\n",
       "    }\n",
       "\n",
       "    .dataframe tbody tr th {\n",
       "        vertical-align: top;\n",
       "    }\n",
       "\n",
       "    .dataframe thead th {\n",
       "        text-align: right;\n",
       "    }\n",
       "</style>\n",
       "<table border=\"1\" class=\"dataframe\">\n",
       "  <thead>\n",
       "    <tr style=\"text-align: right;\">\n",
       "      <th></th>\n",
       "      <th>compound_FoxNews</th>\n",
       "      <th>pos_FoxNews</th>\n",
       "      <th>neg_FoxNews</th>\n",
       "      <th>neu_FoxNews</th>\n",
       "      <th>tweet_FoxNews</th>\n",
       "      <th>tweet_time_FoxNews</th>\n",
       "      <th>tweet_ago_FoxNews</th>\n",
       "      <th>compound_CNN</th>\n",
       "      <th>pos_CNN</th>\n",
       "      <th>neg_CNN</th>\n",
       "      <th>...</th>\n",
       "      <th>tweet_nytimes</th>\n",
       "      <th>tweet_time_nytimes</th>\n",
       "      <th>tweet_ago_nytimes</th>\n",
       "      <th>compound_BBC</th>\n",
       "      <th>pos_BBC</th>\n",
       "      <th>neg_BBC</th>\n",
       "      <th>neu_BBC</th>\n",
       "      <th>tweet_BBC</th>\n",
       "      <th>tweet_time_BBC</th>\n",
       "      <th>tweet_ago_BBC</th>\n",
       "    </tr>\n",
       "  </thead>\n",
       "  <tbody>\n",
       "    <tr>\n",
       "      <th>0</th>\n",
       "      <td>0.0000</td>\n",
       "      <td>0.000</td>\n",
       "      <td>-0.000</td>\n",
       "      <td>1.000</td>\n",
       "      <td>Rep. Nancy Pelosi Calls Republicans 'Despicabl...</td>\n",
       "      <td>2018-09-30 10:08:00+00:00</td>\n",
       "      <td>7.98</td>\n",
       "      <td>0.5719</td>\n",
       "      <td>0.198</td>\n",
       "      <td>-0.000</td>\n",
       "      <td>...</td>\n",
       "      <td>\"Rarely has the reputation of a leader fallen ...</td>\n",
       "      <td>2018-09-30 10:00:04+00:00</td>\n",
       "      <td>9.03</td>\n",
       "      <td>-0.7579</td>\n",
       "      <td>0.048</td>\n",
       "      <td>-0.251</td>\n",
       "      <td>0.701</td>\n",
       "      <td>This is disgusting. 😔\\n\\nThe Citarum River in ...</td>\n",
       "      <td>2018-09-30 10:00:00+00:00</td>\n",
       "      <td>55.97</td>\n",
       "    </tr>\n",
       "    <tr>\n",
       "      <th>1</th>\n",
       "      <td>0.0000</td>\n",
       "      <td>0.000</td>\n",
       "      <td>-0.000</td>\n",
       "      <td>1.000</td>\n",
       "      <td>President @realDonaldTrump addressed the FBI i...</td>\n",
       "      <td>2018-09-30 10:00:01+00:00</td>\n",
       "      <td>8.02</td>\n",
       "      <td>0.0000</td>\n",
       "      <td>0.000</td>\n",
       "      <td>-0.000</td>\n",
       "      <td>...</td>\n",
       "      <td>Indonesia Tsunami Toll Soars Amid Push to Save...</td>\n",
       "      <td>2018-09-30 09:51:02+00:00</td>\n",
       "      <td>9.32</td>\n",
       "      <td>0.0000</td>\n",
       "      <td>0.000</td>\n",
       "      <td>-0.000</td>\n",
       "      <td>1.000</td>\n",
       "      <td>🐻 Say hello to Kyra the sun bear... \\n\\nhttps:...</td>\n",
       "      <td>2018-09-30 09:04:02+00:00</td>\n",
       "      <td>33.77</td>\n",
       "    </tr>\n",
       "    <tr>\n",
       "      <th>2</th>\n",
       "      <td>-0.1132</td>\n",
       "      <td>0.232</td>\n",
       "      <td>-0.251</td>\n",
       "      <td>0.516</td>\n",
       "      <td>OPINION: Why is the Kavanaugh Supreme Court fi...</td>\n",
       "      <td>2018-09-30 09:52:00+00:00</td>\n",
       "      <td>7.00</td>\n",
       "      <td>0.6597</td>\n",
       "      <td>0.252</td>\n",
       "      <td>-0.000</td>\n",
       "      <td>...</td>\n",
       "      <td>Train stations, some remade and others crumbli...</td>\n",
       "      <td>2018-09-30 09:41:43+00:00</td>\n",
       "      <td>17.08</td>\n",
       "      <td>-0.5994</td>\n",
       "      <td>0.000</td>\n",
       "      <td>-0.302</td>\n",
       "      <td>0.698</td>\n",
       "      <td>RT @BBCWorld: Indonesia quake death toll 'at l...</td>\n",
       "      <td>2018-09-30 08:30:16+00:00</td>\n",
       "      <td>59.18</td>\n",
       "    </tr>\n",
       "    <tr>\n",
       "      <th>3</th>\n",
       "      <td>0.7579</td>\n",
       "      <td>0.394</td>\n",
       "      <td>-0.000</td>\n",
       "      <td>0.606</td>\n",
       "      <td>.@POTUS: \"America is winning again and America...</td>\n",
       "      <td>2018-09-30 09:45:00+00:00</td>\n",
       "      <td>8.00</td>\n",
       "      <td>-0.3400</td>\n",
       "      <td>0.000</td>\n",
       "      <td>-0.194</td>\n",
       "      <td>...</td>\n",
       "      <td>“Bolivia starts producing wine where everybody...</td>\n",
       "      <td>2018-09-30 09:24:38+00:00</td>\n",
       "      <td>16.48</td>\n",
       "      <td>0.0000</td>\n",
       "      <td>0.124</td>\n",
       "      <td>-0.124</td>\n",
       "      <td>0.752</td>\n",
       "      <td>For children with autism, the stress of taking...</td>\n",
       "      <td>2018-09-30 07:31:05+00:00</td>\n",
       "      <td>27.05</td>\n",
       "    </tr>\n",
       "    <tr>\n",
       "      <th>4</th>\n",
       "      <td>0.4588</td>\n",
       "      <td>0.200</td>\n",
       "      <td>-0.000</td>\n",
       "      <td>0.800</td>\n",
       "      <td>Demi Lovato’s overdose sparked massive interes...</td>\n",
       "      <td>2018-09-30 09:37:00+00:00</td>\n",
       "      <td>6.98</td>\n",
       "      <td>0.0000</td>\n",
       "      <td>0.000</td>\n",
       "      <td>-0.000</td>\n",
       "      <td>...</td>\n",
       "      <td>\"Shock isn’t actually an emotion. It’s an ampl...</td>\n",
       "      <td>2018-09-30 09:08:09+00:00</td>\n",
       "      <td>17.35</td>\n",
       "      <td>0.5859</td>\n",
       "      <td>0.226</td>\n",
       "      <td>-0.000</td>\n",
       "      <td>0.774</td>\n",
       "      <td>This. Is. Amazing. 😮\\n\\nIntroducing the World ...</td>\n",
       "      <td>2018-09-30 07:04:02+00:00</td>\n",
       "      <td>631.98</td>\n",
       "    </tr>\n",
       "  </tbody>\n",
       "</table>\n",
       "<p>5 rows × 35 columns</p>\n",
       "</div>"
      ],
      "text/plain": [
       "   compound_FoxNews  pos_FoxNews  neg_FoxNews  neu_FoxNews  \\\n",
       "0            0.0000        0.000       -0.000        1.000   \n",
       "1            0.0000        0.000       -0.000        1.000   \n",
       "2           -0.1132        0.232       -0.251        0.516   \n",
       "3            0.7579        0.394       -0.000        0.606   \n",
       "4            0.4588        0.200       -0.000        0.800   \n",
       "\n",
       "                                       tweet_FoxNews  \\\n",
       "0  Rep. Nancy Pelosi Calls Republicans 'Despicabl...   \n",
       "1  President @realDonaldTrump addressed the FBI i...   \n",
       "2  OPINION: Why is the Kavanaugh Supreme Court fi...   \n",
       "3  .@POTUS: \"America is winning again and America...   \n",
       "4  Demi Lovato’s overdose sparked massive interes...   \n",
       "\n",
       "         tweet_time_FoxNews  tweet_ago_FoxNews  compound_CNN  pos_CNN  \\\n",
       "0 2018-09-30 10:08:00+00:00               7.98        0.5719    0.198   \n",
       "1 2018-09-30 10:00:01+00:00               8.02        0.0000    0.000   \n",
       "2 2018-09-30 09:52:00+00:00               7.00        0.6597    0.252   \n",
       "3 2018-09-30 09:45:00+00:00               8.00       -0.3400    0.000   \n",
       "4 2018-09-30 09:37:00+00:00               6.98        0.0000    0.000   \n",
       "\n",
       "   neg_CNN      ...                                           tweet_nytimes  \\\n",
       "0   -0.000      ...       \"Rarely has the reputation of a leader fallen ...   \n",
       "1   -0.000      ...       Indonesia Tsunami Toll Soars Amid Push to Save...   \n",
       "2   -0.000      ...       Train stations, some remade and others crumbli...   \n",
       "3   -0.194      ...       “Bolivia starts producing wine where everybody...   \n",
       "4   -0.000      ...       \"Shock isn’t actually an emotion. It’s an ampl...   \n",
       "\n",
       "         tweet_time_nytimes tweet_ago_nytimes  compound_BBC  pos_BBC  neg_BBC  \\\n",
       "0 2018-09-30 10:00:04+00:00              9.03       -0.7579    0.048   -0.251   \n",
       "1 2018-09-30 09:51:02+00:00              9.32        0.0000    0.000   -0.000   \n",
       "2 2018-09-30 09:41:43+00:00             17.08       -0.5994    0.000   -0.302   \n",
       "3 2018-09-30 09:24:38+00:00             16.48        0.0000    0.124   -0.124   \n",
       "4 2018-09-30 09:08:09+00:00             17.35        0.5859    0.226   -0.000   \n",
       "\n",
       "   neu_BBC                                          tweet_BBC  \\\n",
       "0    0.701  This is disgusting. 😔\\n\\nThe Citarum River in ...   \n",
       "1    1.000  🐻 Say hello to Kyra the sun bear... \\n\\nhttps:...   \n",
       "2    0.698  RT @BBCWorld: Indonesia quake death toll 'at l...   \n",
       "3    0.752  For children with autism, the stress of taking...   \n",
       "4    0.774  This. Is. Amazing. 😮\\n\\nIntroducing the World ...   \n",
       "\n",
       "             tweet_time_BBC tweet_ago_BBC  \n",
       "0 2018-09-30 10:00:00+00:00         55.97  \n",
       "1 2018-09-30 09:04:02+00:00         33.77  \n",
       "2 2018-09-30 08:30:16+00:00         59.18  \n",
       "3 2018-09-30 07:31:05+00:00         27.05  \n",
       "4 2018-09-30 07:04:02+00:00        631.98  \n",
       "\n",
       "[5 rows x 35 columns]"
      ]
     },
     "execution_count": 10,
     "metadata": {},
     "output_type": "execute_result"
    }
   ],
   "source": [
    "sentiments_df.head()"
   ]
  },
  {
   "cell_type": "code",
   "execution_count": 11,
   "metadata": {},
   "outputs": [
    {
     "data": {
      "text/plain": [
       "(100, 35)"
      ]
     },
     "execution_count": 11,
     "metadata": {},
     "output_type": "execute_result"
    }
   ],
   "source": [
    "sentiments_df.shape"
   ]
  },
  {
   "cell_type": "code",
   "execution_count": 12,
   "metadata": {},
   "outputs": [
    {
     "data": {
      "image/png": "[encoded data removed]",
      "text/plain": [
       "<Figure size 432x288 with 1 Axes>"
      ]
     },
     "metadata": {},
     "output_type": "display_data"
    }
   ],
   "source": [
    "# Plot the sentimental Analysis\n",
    "\n",
    "plt.xlim(110, -10)\n",
    "plt.ylim(-1.15, 1.15)\n",
    "plt.grid(True)\n",
    "\n",
    "plt.title(f\"Sentiment Analysis of Media Tweets ({date})\")\n",
    "plt.xlabel(\"Tweest Ago\")\n",
    "plt.ylabel(\"Tweet Polarity\")\n",
    "\n",
    "target_users_with_colors = {\"FoxNews\": \"blue\", \"CNN\": \"red\", \"CBS\": \"green\", \"nytimes\": \"yellow\", \"BBC\": \"skyblue\"}\n",
    "\n",
    "for key, value in target_users_with_colors.items():\n",
    "    plt.scatter(sentiments[f\"tweet_ago_{key}\"], sentiments[f\"pos_{key}\"], facecolors=value, edgecolors=\"black\",\n",
    "            s=80, alpha=0.75, label=f\"{key}\")\n",
    "    plt.scatter(sentiments[f\"tweet_ago_{key}\"], sentiments[f\"neg_{key}\"], facecolors=value, edgecolors=\"black\",\n",
    "            s=80, alpha=0.75, label=f\"{key}\")\n",
    "    plt.scatter(sentiments[f\"tweet_ago_{key}\"], sentiments[f\"neu_{key}\"], facecolors=value, edgecolors=\"black\",\n",
    "            s=80, alpha=0.75, label=f\"{key}\")\n",
    "    \n",
    "# Create dummy objects for legend\n",
    "h1 = plt.scatter([-0.1], [0], marker=\"o\", facecolors=\"skyblue\", edgecolors=\"black\", alpha=0.75, label=\"BBC\")\n",
    "h2 = plt.scatter([-0.1], [0], marker=\"o\", facecolors=\"green\", edgecolors=\"black\", alpha=0.75, label=\"CBS\")\n",
    "h3 = plt.scatter([-0.1], [0], marker=\"o\", facecolors=\"red\", edgecolors=\"black\", alpha=0.85, label=\"CNN\")\n",
    "h4 = plt.scatter([-0.1], [0], marker=\"o\", facecolors=\"blue\", edgecolors=\"black\", alpha=0.75, label=\"FOX\")\n",
    "h5 = plt.scatter([-0.1], [0], marker=\"o\", facecolors=\"yellow\", edgecolors=\"black\", alpha=0.85, label=\"New York Times\")\n",
    "# Set legend\n",
    "legend = plt.legend(handles=[h1, h2, h3, h4, h5], markerscale=1.5, title=\"Media Sources\", bbox_to_anchor=(1.1, 1), fontsize='small', fancybox=True)"
   ]
  },
  {
   "cell_type": "code",
   "execution_count": 13,
   "metadata": {},
   "outputs": [
    {
     "data": {
      "text/plain": [
       "{'Fox': 0.04, 'CNN': 0.0, 'CBS': 0.14, 'NYT': 0.02, 'BBC': 0.1}"
      ]
     },
     "execution_count": 13,
     "metadata": {},
     "output_type": "execute_result"
    }
   ],
   "source": [
    "# Calculate compound mean for each news network\n",
    "overall_sentimental = {}\n",
    "for user in target_users:\n",
    "    if user == \"FoxNews\":\n",
    "        user1 = \"Fox\"\n",
    "    elif user == \"nytimes\":\n",
    "        user1 = \"NYT\"\n",
    "    else:\n",
    "        user1 = user\n",
    "    overall_sentimental[f\"{user1}\"] = round(sentiments_df[f\"compound_{user}\"].mean(),2)\n",
    "overall_sentimental"
   ]
  },
  {
   "cell_type": "code",
   "execution_count": 21,
   "metadata": {},
   "outputs": [
    {
     "data": {
      "text/plain": [
       "OrderedDict([('BBC', 0.1),\n",
       "             ('CBS', 0.14),\n",
       "             ('CNN', 0.0),\n",
       "             ('Fox', 0.04),\n",
       "             ('NYT', 0.02)])"
      ]
     },
     "execution_count": 21,
     "metadata": {},
     "output_type": "execute_result"
    }
   ],
   "source": [
    "overall_sentimental = collections.OrderedDict(sorted(overall_sentimental.items(), key=lambda t: t[0]))\n",
    "overall_sentimental"
   ]
  },
  {
   "cell_type": "code",
   "execution_count": 40,
   "metadata": {},
   "outputs": [
    {
     "data": {
      "image/png": "[encoded data removed]",
      "text/plain": [
       "<Figure size 432x288 with 1 Axes>"
      ]
     },
     "metadata": {},
     "output_type": "display_data"
    }
   ],
   "source": [
    "# Plot\n",
    "columns = list(overall_sentimental.keys())\n",
    "average_compound = list(overall_sentimental.values())\n",
    "\n",
    "plt.ylim(-min(average_compound) - 0.05, max(average_compound) + 0.05)\n",
    "x_axis = np.arange(len(columns))\n",
    "y_axis = list(overall_sentimental.values())\n",
    "\n",
    "plt.title(f\"Overall Media Sentiment based on Twitter {date}\")\n",
    "plt.ylabel(\"Tweet Polarity\")\n",
    "\n",
    "plt.hlines(y=0, xmin=-0.4, xmax=4.4, alpha=0.75)\n",
    "\n",
    "tick_locations = [value for value in x_axis]\n",
    "plt.xticks(tick_locations, columns)\n",
    "\n",
    "colors = [\"skyblue\", \"green\", \"red\", \"blue\", \"yellow\"]\n",
    "\n",
    "for i in range(len(x_axis)):\n",
    "    plt.bar(x_axis[i], y_axis[i], color=colors[i], alpha=0.75, align=\"center\")\n",
    "plt.show()"
   ]
  },
  {
   "cell_type": "code",
   "execution_count": null,
   "metadata": {},
   "outputs": [],
   "source": []
  }
 ],
 "metadata": {
  "kernelspec": {
   "display_name": "Python 3",
   "language": "python",
   "name": "python3"
  },
  "language_info": {
   "codemirror_mode": {
    "name": "ipython",
    "version": 3
   },
   "file_extension": ".py",
   "mimetype": "text/x-python",
   "name": "python",
   "nbconvert_exporter": "python",
   "pygments_lexer": "ipython3",
   "version": "3.6.6"
  },
  "nteract": {
   "version": "0.8.4"
  }
 },
 "nbformat": 4,
 "nbformat_minor": 2
}
